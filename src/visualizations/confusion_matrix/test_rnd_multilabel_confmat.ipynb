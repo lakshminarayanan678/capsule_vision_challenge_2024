{
 "cells": [
  {
   "metadata": {
    "ExecuteTime": {
     "end_time": "2024-08-05T14:09:24.094045Z",
     "start_time": "2024-08-05T14:09:24.090046Z"
    }
   },
   "cell_type": "code",
   "source": [
    "import numpy as np\n",
    "import torch\n",
    "from torchmetrics.classification import MultilabelConfusionMatrix\n",
    "from matplotlib.colors import TwoSlopeNorm\n",
    "import seaborn as sns\n",
    "from matplotlib import pyplot as plt"
   ],
   "id": "5c49f2a540517763",
   "execution_count": 2,
   "outputs": []
  },
  {
   "metadata": {
    "ExecuteTime": {
     "end_time": "2024-08-05T14:29:54.709828Z",
     "start_time": "2024-08-05T14:29:54.705834Z"
    }
   },
   "cell_type": "code",
   "source": "",
   "id": "22ab07e7d24b6d68",
   "execution_count": 75,
   "outputs": []
  },
  {
   "metadata": {
    "ExecuteTime": {
     "end_time": "2024-08-05T14:27:12.278776Z",
     "start_time": "2024-08-05T14:27:12.272778Z"
    }
   },
   "cell_type": "code",
   "source": [
    "class_names = [\n",
    "    \"angiectasia\", \"angiodysplasia\", \"barretts-esophagus\", \"cancer\",\n",
    "    \"diverticulum\", \"erythema\", \"esophagitis\", \"normal-mucosa\",\n",
    "    \"stenosis\", \"submucosal-tumor\", \"ulcer\", \"varices\"\n",
    "]\n",
    "num_classes = len(class_names)"
   ],
   "id": "480e131d7eb5f326",
   "execution_count": 65,
   "outputs": []
  },
  {
   "metadata": {
    "ExecuteTime": {
     "end_time": "2024-08-05T14:27:12.464565Z",
     "start_time": "2024-08-05T14:27:12.452021Z"
    }
   },
   "cell_type": "code",
   "source": [
    "labels = []\n",
    "for i in range(100):  # Simulate data for 100 instances\n",
    "    label = np.zeros(num_classes)\n",
    "    chosen_classes = np.random.choice(range(num_classes), np.random.randint(1, 4), replace=False)\n",
    "    label[chosen_classes] = 1\n",
    "    labels.append(label)\n",
    "\n",
    "# Adjust frequency manually for illustrative purposes\n",
    "for i in range(num_classes):\n",
    "    if i % 4 == 3:  # Reduce frequency of every fourth class\n",
    "        for j in range(len(labels)):\n",
    "            if np.random.rand() < 0.8:  # 80% chance to turn off the label\n",
    "                labels[j][i] = 0\n",
    "\n",
    "labels = np.array(labels)\n",
    "preds = np.random.rand(100, num_classes)  # Predictions as random probabilities\n",
    "\n",
    "# Convert labels to int for PyTorch compatibility\n",
    "labels = labels.astype(int)"
   ],
   "id": "6bb99a9e54d8e3cf",
   "execution_count": 66,
   "outputs": []
  },
  {
   "cell_type": "code",
   "id": "initial_id",
   "metadata": {
    "collapsed": true,
    "ExecuteTime": {
     "end_time": "2024-08-05T15:11:19.370730Z",
     "start_time": "2024-08-05T15:11:19.354702Z"
    }
   },
   "source": [
    "def create_multilabel_conf_matrix(labels, preds, val_mAP_weighted=None, epoch=None):\n",
    "    sns.set_style(\"white\")\n",
    "    sns.set_context(\"paper\")\n",
    "\n",
    "    conf_mat = MultilabelConfusionMatrix(num_labels=num_classes)\n",
    "    all_preds, all_labels = torch.tensor(preds, dtype=torch.float), torch.tensor(labels, dtype=torch.int)\n",
    "    conf_mat.update(preds=all_preds, target=all_labels)\n",
    "    cm = conf_mat.compute().numpy()  # Shape: [num_labels, 2, 2]\n",
    "\n",
    "    # Plot confusion matrices for each label\n",
    "    fig, axes = plt.subplots(nrows=3, ncols=4, figsize=(14, 10), squeeze=False)\n",
    "    axes = axes.flatten()\n",
    "\n",
    "    for i in range(num_classes):\n",
    "        thresh = 40\n",
    "        ax = axes.flatten()[i]\n",
    "        cm_label = cm[i]  # Get the 2x2 confusion matrix for label i\n",
    "\n",
    "        cm_normalized = (cm_label.astype('float') / cm_label.sum()) * 100\n",
    "        norm = TwoSlopeNorm(vmin=0, vcenter=thresh, vmax=100)\n",
    "        cax = ax.imshow(cm_normalized, interpolation='nearest', cmap='Blues', norm=norm)\n",
    "\n",
    "        # Set axes titles\n",
    "        ax.set_title(class_names[i], fontsize=14, weight='bold', pad=10)\n",
    "        \n",
    "        ax.set_xticks([0, 1])\n",
    "        ax.set_yticks([0, 1])\n",
    "        ax.set_xticklabels(['Pos', 'Neg'], fontsize=12)\n",
    "        ax.set_yticklabels(['Pos', 'Neg'], fontsize=12, rotation=90, va='center') \n",
    "        ax.tick_params(axis='x', which='major', pad=0)\n",
    "        ax.tick_params(axis='y', which='major', pad=0)\n",
    "\n",
    "\n",
    "        # Simplify annotations\n",
    "        fmt = 'd'\n",
    "        for j in range(2):\n",
    "            for k in range(2):\n",
    "                ax.text(k, j, format(cm_label[j, k], fmt),\n",
    "                        ha=\"center\", va=\"center\",\n",
    "                        color=\"white\" if cm_normalized[j, k] > thresh else \"black\",\n",
    "                        fontsize=10)\n",
    "                \n",
    "    # Global axes labels\n",
    "    fig.text(0.52, 0.11, 'Prediction', ha='center', va='center', fontsize=20)\n",
    "    fig.text(0.11, 0.52, 'Ground Truth', ha='center', va='center', rotation='vertical', fontsize=20)\n",
    "\n",
    "    # Add a single color bar on the right side\n",
    "    cbar_ax = fig.add_axes([0.92, 0.15, 0.03, 0.75]) \n",
    "    cbar = fig.colorbar(cax, cax=cbar_ax)\n",
    "    cbar.set_label('Percentage', fontsize=20)\n",
    "    cbar.ax.tick_params(labelsize=14)\n",
    "    cbar.set_ticks([0, 20, 40, 60, 80, 100])\n",
    "    cbar.set_ticklabels(['0%', '20%', '40%', '60%', '80%', '100%'])\n",
    "    \n",
    "    current_epoch = 99\n",
    "    val_mAP_weighted = (0.8173) * 100\n",
    "    fig.suptitle(f'Confusion Matrix (Epoch={current_epoch}; val_mAP_weighted={val_mAP_weighted:.2f})', fontsize=18, weight='bold')\n",
    "\n",
    "    plt.subplots_adjust(left=0.15, right=0.88, bottom=0.15, top=0.9, wspace=0.4)\n",
    "    \n",
    "    return fig"
   ],
   "execution_count": 308,
   "outputs": []
  },
  {
   "metadata": {
    "ExecuteTime": {
     "end_time": "2024-08-05T15:09:47.989925Z",
     "start_time": "2024-08-05T15:09:47.298862Z"
    }
   },
   "cell_type": "code",
   "source": [
    "fig = create_multilabel_conf_matrix(labels=labels, preds=preds)\n",
    "plt.show()"
   ],
   "id": "cb89a4e38400d4d0",
   "execution_count": 307,
   "outputs": []
  },
  {
   "metadata": {
    "ExecuteTime": {
     "end_time": "2024-08-05T14:44:59.927840Z",
     "start_time": "2024-08-05T14:44:59.913826Z"
    }
   },
   "cell_type": "code",
   "source": "",
   "id": "d41e08e732555d5a",
   "execution_count": 173,
   "outputs": []
  },
  {
   "metadata": {},
   "cell_type": "code",
   "execution_count": null,
   "source": "",
   "id": "3c44013257a4b765",
   "outputs": []
  }
 ],
 "metadata": {
  "kernelspec": {
   "display_name": "Python 3",
   "language": "python",
   "name": "python3"
  },
  "language_info": {
   "codemirror_mode": {
    "name": "ipython",
    "version": 2
   },
   "file_extension": ".py",
   "mimetype": "text/x-python",
   "name": "python",
   "nbconvert_exporter": "python",
   "pygments_lexer": "ipython2",
   "version": "2.7.6"
  }
 },
 "nbformat": 4,
 "nbformat_minor": 5
}
