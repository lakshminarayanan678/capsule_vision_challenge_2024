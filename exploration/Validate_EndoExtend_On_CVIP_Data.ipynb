{
 "cells": [
  {
   "metadata": {
    "ExecuteTime": {
     "end_time": "2024-08-27T22:16:57.464517Z",
     "start_time": "2024-08-27T22:16:57.458326Z"
    }
   },
   "cell_type": "code",
   "source": [
    "import argparse\n",
    "import json\n",
    "import os\n",
    "import warnings\n",
    "\n",
    "import numpy as np\n",
    "import pandas as pd\n",
    "import seaborn as sns\n",
    "import torch\n",
    "import wandb\n",
    "from lightning import Trainer\n",
    "from matplotlib import pyplot as plt\n",
    "from sklearn.metrics import classification_report\n",
    "from sklearn.metrics import roc_curve, auc\n",
    "from sklearn.preprocessing import label_binarize\n",
    "from tqdm.notebook import tqdm\n",
    "\n",
    "from src.data.datamodule import DataModule\n",
    "from src.models.regnety.regnety import RegNetY\n",
    "\n",
    "warnings.filterwarnings(\"ignore\", \".*does not have many workers.*\")\n",
    "\n",
    "%load_ext autoreload"
   ],
   "id": "cf812c80c6efe35d",
   "outputs": [
    {
     "name": "stdout",
     "output_type": "stream",
     "text": [
      "The autoreload extension is already loaded. To reload it, use:\n",
      "  %reload_ext autoreload\n"
     ]
    }
   ],
   "execution_count": 11
  },
  {
   "metadata": {},
   "cell_type": "markdown",
   "source": "## Preparation",
   "id": "a9d095d423e32aec"
  },
  {
   "cell_type": "code",
   "id": "initial_id",
   "metadata": {
    "collapsed": true,
    "ExecuteTime": {
     "end_time": "2024-08-27T22:16:57.955907Z",
     "start_time": "2024-08-27T22:16:57.491065Z"
    }
   },
   "source": [
    "# Load the model config\n",
    "api = wandb.Api()\n",
    "# run = api.run(f'mvrcii_/SEER/f5v984te')\n",
    "run = api.run(f'wuesuv/CV2024/qt8ov5wo')\n",
    "config = argparse.Namespace(**run.config)"
   ],
   "outputs": [],
   "execution_count": 12
  },
  {
   "metadata": {
    "ExecuteTime": {
     "end_time": "2024-08-27T22:16:57.961778Z",
     "start_time": "2024-08-27T22:16:57.957433Z"
    }
   },
   "cell_type": "code",
   "source": [
    "# Project paths\n",
    "vissl_project_dir = 'C:\\\\Users\\Marce\\Git-Master\\JMU\\Masterarbeit\\\\vissl'\n",
    "endoscopy_project_dir = 'C:\\\\Users\\Marce\\Git-Master\\JMU\\Masterarbeit\\endoscopy'\n",
    "cvip_project_dir = 'C:\\\\Users\\Marce\\Git-Master\\Privat\\cv2024'"
   ],
   "id": "dad0a85d663502a2",
   "outputs": [],
   "execution_count": 13
  },
  {
   "metadata": {},
   "cell_type": "markdown",
   "source": "## Loading Class Mapping",
   "id": "c71975e7d99c616d"
  },
  {
   "metadata": {
    "ExecuteTime": {
     "end_time": "2024-08-27T22:16:57.970921Z",
     "start_time": "2024-08-27T22:16:57.961778Z"
    }
   },
   "cell_type": "code",
   "source": [
    "class_mapping_path = os.path.join(endoscopy_project_dir, 'datasets/endoextend_dataset/class_mapping.json')\n",
    "absolute_path = os.path.abspath(class_mapping_path)\n",
    "\n",
    "if not os.path.exists(absolute_path):\n",
    "    raise FileNotFoundError(f\"Class mapping file not found at {class_mapping_path}\")\n",
    "\n",
    "with open(class_mapping_path, 'r') as f:\n",
    "    class_mapping = json.load(f)\n",
    "class_mapping"
   ],
   "id": "1bb0b4f781d4fab1",
   "outputs": [
    {
     "data": {
      "text/plain": [
       "{'angioectasia': 0,\n",
       " 'bleeding': 1,\n",
       " 'erosion': 2,\n",
       " 'erythema': 3,\n",
       " 'foreign_body': 4,\n",
       " 'lymphangiectasia': 5,\n",
       " 'normal-mucosa': 6,\n",
       " 'polyp': 7,\n",
       " 'ulcer': 8,\n",
       " 'worms': 9}"
      ]
     },
     "execution_count": 14,
     "metadata": {},
     "output_type": "execute_result"
    }
   ],
   "execution_count": 14
  },
  {
   "metadata": {},
   "cell_type": "markdown",
   "source": "## Loading Model with Checkpoint",
   "id": "fbd09584ee52ef59"
  },
  {
   "metadata": {
    "ExecuteTime": {
     "end_time": "2024-08-27T22:16:57.976951Z",
     "start_time": "2024-08-27T22:16:57.971929Z"
    }
   },
   "cell_type": "code",
   "source": [
    "# ckpt_filename = 'unique-sweep-1_epoch03_val_mAP_weighted0.81.ckpt'\n",
    "ckpt_filename = 'run-20240827_135850-honest-salad-51/best_epoch07_val_AUC_macro0.99.ckpt'\n",
    "ckpt_path = os.path.join(cvip_project_dir, 'pretrained_models', ckpt_filename)\n",
    "\n",
    "\n",
    "def create_model():\n",
    "    model = RegNetY.load_from_checkpoint(checkpoint_path=ckpt_path, config=config, class_to_idx=class_mapping)\n",
    "    model.to(torch.device('cuda'))\n",
    "    model.eval()\n",
    "    return model"
   ],
   "id": "adb0d8e4df64a42c",
   "outputs": [],
   "execution_count": 15
  },
  {
   "metadata": {
    "ExecuteTime": {
     "end_time": "2024-08-27T22:16:58.003153Z",
     "start_time": "2024-08-27T22:16:57.976951Z"
    }
   },
   "cell_type": "code",
   "source": [
    "accelerator = \"mps\" if torch.backends.mps.is_available() else (\"gpu\" if torch.cuda.is_available() else \"cpu\")\n",
    "\n",
    "trainer = Trainer(\n",
    "    devices=1,\n",
    "    accelerator=accelerator,\n",
    "    precision=\"16-mixed\",\n",
    "    gradient_clip_val=0.5,\n",
    "    enable_progress_bar=True,\n",
    "    enable_model_summary=False,\n",
    "    inference_mode=True\n",
    ")"
   ],
   "id": "5fc3dcb16f68d96e",
   "outputs": [
    {
     "name": "stderr",
     "output_type": "stream",
     "text": [
      "Using 16bit Automatic Mixed Precision (AMP)\n",
      "GPU available: True (cuda), used: True\n",
      "TPU available: False, using: 0 TPU cores\n",
      "HPU available: False, using: 0 HPUs\n"
     ]
    }
   ],
   "execution_count": 16
  },
  {
   "metadata": {},
   "cell_type": "markdown",
   "source": "## Loading Transforms",
   "id": "36c60b8c61ae3874"
  },
  {
   "metadata": {
    "ExecuteTime": {
     "end_time": "2024-08-27T22:16:58.010704Z",
     "start_time": "2024-08-27T22:16:58.003153Z"
    }
   },
   "cell_type": "code",
   "source": [
    "from src.utils.transform_utils import load_transforms\n",
    "\n",
    "transforms_str = run.summary.get('transforms')\n",
    "transforms = load_transforms(img_size=config.img_size, transforms_string=transforms_str)"
   ],
   "id": "99b44f6f04bf5954",
   "outputs": [],
   "execution_count": 17
  },
  {
   "metadata": {},
   "cell_type": "markdown",
   "source": "## Loading DataModules",
   "id": "bf9e662c83449e40"
  },
  {
   "metadata": {
    "ExecuteTime": {
     "end_time": "2024-08-27T22:20:16.853701Z",
     "start_time": "2024-08-27T22:20:16.228162Z"
    }
   },
   "cell_type": "code",
   "source": [
    "# EndoExtend DataModule\n",
    "ee_dataset_path = os.path.join(vissl_project_dir, '../data')\n",
    "ee_dataset_csv_path = os.path.join(endoscopy_project_dir, 'capsulevision', 'endoextend_dataset')\n",
    "\n",
    "ee_data_module = DataModule(\n",
    "    class_mapping=class_mapping,\n",
    "    transforms=transforms,\n",
    "    train_bs=32,\n",
    "    val_bs=64,\n",
    "    dataset_path=ee_dataset_path,\n",
    "    dataset_csv_path=ee_dataset_csv_path,\n",
    "    fold_idx=config.fold_id,\n",
    "    num_workers=0\n",
    ")\n",
    "ee_data_module.setup()\n",
    "print(\"EndoExtend Dataset with Val-Fold Index:\", config.fold_id)\n",
    "print(\"Train Images:\", len(ee_data_module.train_dataloader().dataset))\n",
    "print(\"Val Images:\", len(ee_data_module.val_dataloader().dataset))\n",
    "print(\"Test Images:\", len(ee_data_module.test_dataloader().dataset))"
   ],
   "id": "435d598b2aebad5",
   "outputs": [
    {
     "name": "stdout",
     "output_type": "stream",
     "text": [
      "EndoExtend Dataset with Val-Fold Index: 1\n",
      "Train Images: 54209\n",
      "Val Images: 17961\n",
      "Test Images: 18042\n"
     ]
    }
   ],
   "execution_count": 21
  },
  {
   "metadata": {},
   "cell_type": "markdown",
   "source": "### ",
   "id": "b5568d50d6358389"
  },
  {
   "metadata": {
    "ExecuteTime": {
     "end_time": "2024-08-27T22:20:18.231392Z",
     "start_time": "2024-08-27T22:20:17.990445Z"
    }
   },
   "cell_type": "code",
   "source": [
    "# CVIP DataModule\n",
    "dataset_path = os.path.join(cvip_project_dir, 'data')\n",
    "dataset_csv_path = os.path.join(cvip_project_dir, 'dataset')\n",
    "\n",
    "fold_id = 1\n",
    "cvip_data_module = DataModule(\n",
    "    class_mapping=class_mapping,\n",
    "    transforms=transforms,\n",
    "    train_bs=32,\n",
    "    val_bs=64,\n",
    "    dataset_path=dataset_path,\n",
    "    dataset_csv_path=dataset_csv_path,\n",
    "    fold_idx=fold_id,\n",
    "    num_workers=0\n",
    ")\n",
    "cvip_data_module.setup()\n",
    "print(\"CVIP Dataset with Val-Fold Index:\", fold_id)\n",
    "print(\"Train Images:\", len(cvip_data_module.train_dataloader().dataset))\n",
    "print(\"Val Images:\", len(cvip_data_module.val_dataloader().dataset))"
   ],
   "id": "1cae0b49e56ca48a",
   "outputs": [
    {
     "name": "stdout",
     "output_type": "stream",
     "text": [
      "CVIP Dataset with Val-Fold Index: 1\n",
      "Train Images: 37310\n",
      "Val Images: 15987\n"
     ]
    }
   ],
   "execution_count": 22
  },
  {
   "metadata": {},
   "cell_type": "markdown",
   "source": "## Sanity Check: Validate Model Checkpoint on EndoExtend Data",
   "id": "365289e642bccaed"
  },
  {
   "metadata": {
    "ExecuteTime": {
     "end_time": "2024-08-27T22:28:59.225633Z",
     "start_time": "2024-08-27T22:20:19.619581Z"
    }
   },
   "cell_type": "code",
   "source": "trainer.validate(create_model(), ee_data_module.val_dataloader())",
   "id": "8de3f86ea63ca4f5",
   "outputs": [
    {
     "name": "stderr",
     "output_type": "stream",
     "text": [
      "LOCAL_RANK: 0 - CUDA_VISIBLE_DEVICES: [0]\n"
     ]
    },
    {
     "data": {
      "text/plain": [
       "Validation: |          | 0/? [00:00<?, ?it/s]"
      ],
      "application/vnd.jupyter.widget-view+json": {
       "version_major": 2,
       "version_minor": 0,
       "model_id": "896cce846444426f813d8c6c31b28fcb"
      }
     },
     "metadata": {},
     "output_type": "display_data"
    },
    {
     "name": "stderr",
     "output_type": "stream",
     "text": [
      "\n",
      "Detected KeyboardInterrupt, attempting graceful shutdown ...\n"
     ]
    },
    {
     "ename": "NameError",
     "evalue": "name 'exit' is not defined",
     "output_type": "error",
     "traceback": [
      "\u001B[1;31m---------------------------------------------------------------------------\u001B[0m",
      "\u001B[1;31mKeyboardInterrupt\u001B[0m                         Traceback (most recent call last)",
      "File \u001B[1;32m~\\Git-Master\\Privat\\cv2024\\venv\\Lib\\site-packages\\lightning\\pytorch\\trainer\\call.py:47\u001B[0m, in \u001B[0;36m_call_and_handle_interrupt\u001B[1;34m(trainer, trainer_fn, *args, **kwargs)\u001B[0m\n\u001B[0;32m     46\u001B[0m         \u001B[38;5;28;01mreturn\u001B[39;00m trainer\u001B[38;5;241m.\u001B[39mstrategy\u001B[38;5;241m.\u001B[39mlauncher\u001B[38;5;241m.\u001B[39mlaunch(trainer_fn, \u001B[38;5;241m*\u001B[39margs, trainer\u001B[38;5;241m=\u001B[39mtrainer, \u001B[38;5;241m*\u001B[39m\u001B[38;5;241m*\u001B[39mkwargs)\n\u001B[1;32m---> 47\u001B[0m     \u001B[38;5;28;01mreturn\u001B[39;00m \u001B[43mtrainer_fn\u001B[49m\u001B[43m(\u001B[49m\u001B[38;5;241;43m*\u001B[39;49m\u001B[43margs\u001B[49m\u001B[43m,\u001B[49m\u001B[43m \u001B[49m\u001B[38;5;241;43m*\u001B[39;49m\u001B[38;5;241;43m*\u001B[39;49m\u001B[43mkwargs\u001B[49m\u001B[43m)\u001B[49m\n\u001B[0;32m     49\u001B[0m \u001B[38;5;28;01mexcept\u001B[39;00m _TunerExitException:\n",
      "File \u001B[1;32m~\\Git-Master\\Privat\\cv2024\\venv\\Lib\\site-packages\\lightning\\pytorch\\trainer\\trainer.py:679\u001B[0m, in \u001B[0;36mTrainer._validate_impl\u001B[1;34m(self, model, dataloaders, ckpt_path, verbose, datamodule)\u001B[0m\n\u001B[0;32m    676\u001B[0m ckpt_path \u001B[38;5;241m=\u001B[39m \u001B[38;5;28mself\u001B[39m\u001B[38;5;241m.\u001B[39m_checkpoint_connector\u001B[38;5;241m.\u001B[39m_select_ckpt_path(\n\u001B[0;32m    677\u001B[0m     \u001B[38;5;28mself\u001B[39m\u001B[38;5;241m.\u001B[39mstate\u001B[38;5;241m.\u001B[39mfn, ckpt_path, model_provided\u001B[38;5;241m=\u001B[39mmodel_provided, model_connected\u001B[38;5;241m=\u001B[39m\u001B[38;5;28mself\u001B[39m\u001B[38;5;241m.\u001B[39mlightning_module \u001B[38;5;129;01mis\u001B[39;00m \u001B[38;5;129;01mnot\u001B[39;00m \u001B[38;5;28;01mNone\u001B[39;00m\n\u001B[0;32m    678\u001B[0m )\n\u001B[1;32m--> 679\u001B[0m results \u001B[38;5;241m=\u001B[39m \u001B[38;5;28;43mself\u001B[39;49m\u001B[38;5;241;43m.\u001B[39;49m\u001B[43m_run\u001B[49m\u001B[43m(\u001B[49m\u001B[43mmodel\u001B[49m\u001B[43m,\u001B[49m\u001B[43m \u001B[49m\u001B[43mckpt_path\u001B[49m\u001B[38;5;241;43m=\u001B[39;49m\u001B[43mckpt_path\u001B[49m\u001B[43m)\u001B[49m\n\u001B[0;32m    680\u001B[0m \u001B[38;5;66;03m# remove the tensors from the validation results\u001B[39;00m\n",
      "File \u001B[1;32m~\\Git-Master\\Privat\\cv2024\\venv\\Lib\\site-packages\\lightning\\pytorch\\trainer\\trainer.py:981\u001B[0m, in \u001B[0;36mTrainer._run\u001B[1;34m(self, model, ckpt_path)\u001B[0m\n\u001B[0;32m    978\u001B[0m \u001B[38;5;66;03m# ----------------------------\u001B[39;00m\n\u001B[0;32m    979\u001B[0m \u001B[38;5;66;03m# RUN THE TRAINER\u001B[39;00m\n\u001B[0;32m    980\u001B[0m \u001B[38;5;66;03m# ----------------------------\u001B[39;00m\n\u001B[1;32m--> 981\u001B[0m results \u001B[38;5;241m=\u001B[39m \u001B[38;5;28;43mself\u001B[39;49m\u001B[38;5;241;43m.\u001B[39;49m\u001B[43m_run_stage\u001B[49m\u001B[43m(\u001B[49m\u001B[43m)\u001B[49m\n\u001B[0;32m    983\u001B[0m \u001B[38;5;66;03m# ----------------------------\u001B[39;00m\n\u001B[0;32m    984\u001B[0m \u001B[38;5;66;03m# POST-Training CLEAN UP\u001B[39;00m\n\u001B[0;32m    985\u001B[0m \u001B[38;5;66;03m# ----------------------------\u001B[39;00m\n",
      "File \u001B[1;32m~\\Git-Master\\Privat\\cv2024\\venv\\Lib\\site-packages\\lightning\\pytorch\\trainer\\trainer.py:1018\u001B[0m, in \u001B[0;36mTrainer._run_stage\u001B[1;34m(self)\u001B[0m\n\u001B[0;32m   1017\u001B[0m \u001B[38;5;28;01mif\u001B[39;00m \u001B[38;5;28mself\u001B[39m\u001B[38;5;241m.\u001B[39mevaluating:\n\u001B[1;32m-> 1018\u001B[0m     \u001B[38;5;28;01mreturn\u001B[39;00m \u001B[38;5;28;43mself\u001B[39;49m\u001B[38;5;241;43m.\u001B[39;49m\u001B[43m_evaluation_loop\u001B[49m\u001B[38;5;241;43m.\u001B[39;49m\u001B[43mrun\u001B[49m\u001B[43m(\u001B[49m\u001B[43m)\u001B[49m\n\u001B[0;32m   1019\u001B[0m \u001B[38;5;28;01mif\u001B[39;00m \u001B[38;5;28mself\u001B[39m\u001B[38;5;241m.\u001B[39mpredicting:\n",
      "File \u001B[1;32m~\\Git-Master\\Privat\\cv2024\\venv\\Lib\\site-packages\\lightning\\pytorch\\loops\\utilities.py:178\u001B[0m, in \u001B[0;36m_no_grad_context.<locals>._decorator\u001B[1;34m(self, *args, **kwargs)\u001B[0m\n\u001B[0;32m    177\u001B[0m \u001B[38;5;28;01mwith\u001B[39;00m context_manager():\n\u001B[1;32m--> 178\u001B[0m     \u001B[38;5;28;01mreturn\u001B[39;00m \u001B[43mloop_run\u001B[49m\u001B[43m(\u001B[49m\u001B[38;5;28;43mself\u001B[39;49m\u001B[43m,\u001B[49m\u001B[43m \u001B[49m\u001B[38;5;241;43m*\u001B[39;49m\u001B[43margs\u001B[49m\u001B[43m,\u001B[49m\u001B[43m \u001B[49m\u001B[38;5;241;43m*\u001B[39;49m\u001B[38;5;241;43m*\u001B[39;49m\u001B[43mkwargs\u001B[49m\u001B[43m)\u001B[49m\n",
      "File \u001B[1;32m~\\Git-Master\\Privat\\cv2024\\venv\\Lib\\site-packages\\lightning\\pytorch\\loops\\evaluation_loop.py:135\u001B[0m, in \u001B[0;36m_EvaluationLoop.run\u001B[1;34m(self)\u001B[0m\n\u001B[0;32m    134\u001B[0m     \u001B[38;5;66;03m# run step hooks\u001B[39;00m\n\u001B[1;32m--> 135\u001B[0m     \u001B[38;5;28;43mself\u001B[39;49m\u001B[38;5;241;43m.\u001B[39;49m\u001B[43m_evaluation_step\u001B[49m\u001B[43m(\u001B[49m\u001B[43mbatch\u001B[49m\u001B[43m,\u001B[49m\u001B[43m \u001B[49m\u001B[43mbatch_idx\u001B[49m\u001B[43m,\u001B[49m\u001B[43m \u001B[49m\u001B[43mdataloader_idx\u001B[49m\u001B[43m,\u001B[49m\u001B[43m \u001B[49m\u001B[43mdataloader_iter\u001B[49m\u001B[43m)\u001B[49m\n\u001B[0;32m    136\u001B[0m \u001B[38;5;28;01mexcept\u001B[39;00m \u001B[38;5;167;01mStopIteration\u001B[39;00m:\n\u001B[0;32m    137\u001B[0m     \u001B[38;5;66;03m# this needs to wrap the `*_step` call too (not just `next`) for `dataloader_iter` support\u001B[39;00m\n",
      "File \u001B[1;32m~\\Git-Master\\Privat\\cv2024\\venv\\Lib\\site-packages\\lightning\\pytorch\\loops\\evaluation_loop.py:396\u001B[0m, in \u001B[0;36m_EvaluationLoop._evaluation_step\u001B[1;34m(self, batch, batch_idx, dataloader_idx, dataloader_iter)\u001B[0m\n\u001B[0;32m    391\u001B[0m step_args \u001B[38;5;241m=\u001B[39m (\n\u001B[0;32m    392\u001B[0m     \u001B[38;5;28mself\u001B[39m\u001B[38;5;241m.\u001B[39m_build_step_args_from_hook_kwargs(hook_kwargs, hook_name)\n\u001B[0;32m    393\u001B[0m     \u001B[38;5;28;01mif\u001B[39;00m \u001B[38;5;129;01mnot\u001B[39;00m using_dataloader_iter\n\u001B[0;32m    394\u001B[0m     \u001B[38;5;28;01melse\u001B[39;00m (dataloader_iter,)\n\u001B[0;32m    395\u001B[0m )\n\u001B[1;32m--> 396\u001B[0m output \u001B[38;5;241m=\u001B[39m \u001B[43mcall\u001B[49m\u001B[38;5;241;43m.\u001B[39;49m\u001B[43m_call_strategy_hook\u001B[49m\u001B[43m(\u001B[49m\u001B[43mtrainer\u001B[49m\u001B[43m,\u001B[49m\u001B[43m \u001B[49m\u001B[43mhook_name\u001B[49m\u001B[43m,\u001B[49m\u001B[43m \u001B[49m\u001B[38;5;241;43m*\u001B[39;49m\u001B[43mstep_args\u001B[49m\u001B[43m)\u001B[49m\n\u001B[0;32m    398\u001B[0m \u001B[38;5;28mself\u001B[39m\u001B[38;5;241m.\u001B[39mbatch_progress\u001B[38;5;241m.\u001B[39mincrement_processed()\n",
      "File \u001B[1;32m~\\Git-Master\\Privat\\cv2024\\venv\\Lib\\site-packages\\lightning\\pytorch\\trainer\\call.py:319\u001B[0m, in \u001B[0;36m_call_strategy_hook\u001B[1;34m(trainer, hook_name, *args, **kwargs)\u001B[0m\n\u001B[0;32m    318\u001B[0m \u001B[38;5;28;01mwith\u001B[39;00m trainer\u001B[38;5;241m.\u001B[39mprofiler\u001B[38;5;241m.\u001B[39mprofile(\u001B[38;5;124mf\u001B[39m\u001B[38;5;124m\"\u001B[39m\u001B[38;5;124m[Strategy]\u001B[39m\u001B[38;5;132;01m{\u001B[39;00mtrainer\u001B[38;5;241m.\u001B[39mstrategy\u001B[38;5;241m.\u001B[39m\u001B[38;5;18m__class__\u001B[39m\u001B[38;5;241m.\u001B[39m\u001B[38;5;18m__name__\u001B[39m\u001B[38;5;132;01m}\u001B[39;00m\u001B[38;5;124m.\u001B[39m\u001B[38;5;132;01m{\u001B[39;00mhook_name\u001B[38;5;132;01m}\u001B[39;00m\u001B[38;5;124m\"\u001B[39m):\n\u001B[1;32m--> 319\u001B[0m     output \u001B[38;5;241m=\u001B[39m \u001B[43mfn\u001B[49m\u001B[43m(\u001B[49m\u001B[38;5;241;43m*\u001B[39;49m\u001B[43margs\u001B[49m\u001B[43m,\u001B[49m\u001B[43m \u001B[49m\u001B[38;5;241;43m*\u001B[39;49m\u001B[38;5;241;43m*\u001B[39;49m\u001B[43mkwargs\u001B[49m\u001B[43m)\u001B[49m\n\u001B[0;32m    321\u001B[0m \u001B[38;5;66;03m# restore current_fx when nested context\u001B[39;00m\n",
      "File \u001B[1;32m~\\Git-Master\\Privat\\cv2024\\venv\\Lib\\site-packages\\lightning\\pytorch\\strategies\\strategy.py:411\u001B[0m, in \u001B[0;36mStrategy.validation_step\u001B[1;34m(self, *args, **kwargs)\u001B[0m\n\u001B[0;32m    410\u001B[0m     \u001B[38;5;28;01mreturn\u001B[39;00m \u001B[38;5;28mself\u001B[39m\u001B[38;5;241m.\u001B[39m_forward_redirection(\u001B[38;5;28mself\u001B[39m\u001B[38;5;241m.\u001B[39mmodel, \u001B[38;5;28mself\u001B[39m\u001B[38;5;241m.\u001B[39mlightning_module, \u001B[38;5;124m\"\u001B[39m\u001B[38;5;124mvalidation_step\u001B[39m\u001B[38;5;124m\"\u001B[39m, \u001B[38;5;241m*\u001B[39margs, \u001B[38;5;241m*\u001B[39m\u001B[38;5;241m*\u001B[39mkwargs)\n\u001B[1;32m--> 411\u001B[0m \u001B[38;5;28;01mreturn\u001B[39;00m \u001B[38;5;28;43mself\u001B[39;49m\u001B[38;5;241;43m.\u001B[39;49m\u001B[43mlightning_module\u001B[49m\u001B[38;5;241;43m.\u001B[39;49m\u001B[43mvalidation_step\u001B[49m\u001B[43m(\u001B[49m\u001B[38;5;241;43m*\u001B[39;49m\u001B[43margs\u001B[49m\u001B[43m,\u001B[49m\u001B[43m \u001B[49m\u001B[38;5;241;43m*\u001B[39;49m\u001B[38;5;241;43m*\u001B[39;49m\u001B[43mkwargs\u001B[49m\u001B[43m)\u001B[49m\n",
      "File \u001B[1;32m~\\Git-Master\\Privat\\cv2024\\src\\models\\abstract_model.py:131\u001B[0m, in \u001B[0;36mAbstractLightningModule.validation_step\u001B[1;34m(self, batch, batch_idx)\u001B[0m\n\u001B[0;32m    130\u001B[0m \u001B[38;5;28mself\u001B[39m\u001B[38;5;241m.\u001B[39m__calc_loss(logits\u001B[38;5;241m=\u001B[39mlogits, labels\u001B[38;5;241m=\u001B[39mlabels, mode\u001B[38;5;241m=\u001B[39m\u001B[38;5;124m'\u001B[39m\u001B[38;5;124mval\u001B[39m\u001B[38;5;124m'\u001B[39m)\n\u001B[1;32m--> 131\u001B[0m \u001B[38;5;28;43mself\u001B[39;49m\u001B[38;5;241;43m.\u001B[39;49m\u001B[43m__log_step_metrics\u001B[49m\u001B[43m(\u001B[49m\u001B[43mpreds\u001B[49m\u001B[38;5;241;43m=\u001B[39;49m\u001B[43mlogits\u001B[49m\u001B[43m,\u001B[49m\u001B[43m \u001B[49m\u001B[43mlabels\u001B[49m\u001B[38;5;241;43m=\u001B[39;49m\u001B[43mlabels\u001B[49m\u001B[43m,\u001B[49m\u001B[43m \u001B[49m\u001B[43mmode\u001B[49m\u001B[38;5;241;43m=\u001B[39;49m\u001B[38;5;124;43m'\u001B[39;49m\u001B[38;5;124;43mval\u001B[39;49m\u001B[38;5;124;43m'\u001B[39;49m\u001B[43m)\u001B[49m\n\u001B[0;32m    132\u001B[0m \u001B[38;5;28mself\u001B[39m\u001B[38;5;241m.\u001B[39m__store_step_preds(preds\u001B[38;5;241m=\u001B[39mlogits, labels\u001B[38;5;241m=\u001B[39mlabels, mode\u001B[38;5;241m=\u001B[39m\u001B[38;5;124m'\u001B[39m\u001B[38;5;124mval\u001B[39m\u001B[38;5;124m'\u001B[39m)\n",
      "File \u001B[1;32m~\\Git-Master\\Privat\\cv2024\\src\\models\\abstract_model.py:227\u001B[0m, in \u001B[0;36mAbstractLightningModule.__log_step_metrics\u001B[1;34m(self, preds, labels, mode)\u001B[0m\n\u001B[0;32m    225\u001B[0m     \u001B[38;5;28;01mreturn\u001B[39;00m\n\u001B[1;32m--> 227\u001B[0m \u001B[38;5;28mself\u001B[39m\u001B[38;5;241m.\u001B[39mlog(\u001B[38;5;124mf\u001B[39m\u001B[38;5;124m'\u001B[39m\u001B[38;5;132;01m{\u001B[39;00mmode\u001B[38;5;132;01m}\u001B[39;00m\u001B[38;5;124m_precision_weighted\u001B[39m\u001B[38;5;124m'\u001B[39m, \u001B[38;5;28;43mself\u001B[39;49m\u001B[38;5;241;43m.\u001B[39;49m\u001B[43mprecision_weighted\u001B[49m\u001B[43m(\u001B[49m\u001B[43mpreds\u001B[49m\u001B[43m,\u001B[49m\u001B[43m \u001B[49m\u001B[43mlabels\u001B[49m\u001B[43m)\u001B[49m, on_epoch\u001B[38;5;241m=\u001B[39m\u001B[38;5;28;01mTrue\u001B[39;00m, prog_bar\u001B[38;5;241m=\u001B[39m\u001B[38;5;28;01mFalse\u001B[39;00m)\n\u001B[0;32m    228\u001B[0m \u001B[38;5;28mself\u001B[39m\u001B[38;5;241m.\u001B[39mlog(\u001B[38;5;124mf\u001B[39m\u001B[38;5;124m'\u001B[39m\u001B[38;5;132;01m{\u001B[39;00mmode\u001B[38;5;132;01m}\u001B[39;00m\u001B[38;5;124m_recall_weighted\u001B[39m\u001B[38;5;124m'\u001B[39m, \u001B[38;5;28mself\u001B[39m\u001B[38;5;241m.\u001B[39mrecall_weighted(preds, labels), on_epoch\u001B[38;5;241m=\u001B[39m\u001B[38;5;28;01mTrue\u001B[39;00m, prog_bar\u001B[38;5;241m=\u001B[39m\u001B[38;5;28;01mFalse\u001B[39;00m)\n",
      "File \u001B[1;32m~\\Git-Master\\Privat\\cv2024\\venv\\Lib\\site-packages\\torch\\nn\\modules\\module.py:1553\u001B[0m, in \u001B[0;36mModule._wrapped_call_impl\u001B[1;34m(self, *args, **kwargs)\u001B[0m\n\u001B[0;32m   1552\u001B[0m \u001B[38;5;28;01melse\u001B[39;00m:\n\u001B[1;32m-> 1553\u001B[0m     \u001B[38;5;28;01mreturn\u001B[39;00m \u001B[38;5;28;43mself\u001B[39;49m\u001B[38;5;241;43m.\u001B[39;49m\u001B[43m_call_impl\u001B[49m\u001B[43m(\u001B[49m\u001B[38;5;241;43m*\u001B[39;49m\u001B[43margs\u001B[49m\u001B[43m,\u001B[49m\u001B[43m \u001B[49m\u001B[38;5;241;43m*\u001B[39;49m\u001B[38;5;241;43m*\u001B[39;49m\u001B[43mkwargs\u001B[49m\u001B[43m)\u001B[49m\n",
      "File \u001B[1;32m~\\Git-Master\\Privat\\cv2024\\venv\\Lib\\site-packages\\torch\\nn\\modules\\module.py:1562\u001B[0m, in \u001B[0;36mModule._call_impl\u001B[1;34m(self, *args, **kwargs)\u001B[0m\n\u001B[0;32m   1559\u001B[0m \u001B[38;5;28;01mif\u001B[39;00m \u001B[38;5;129;01mnot\u001B[39;00m (\u001B[38;5;28mself\u001B[39m\u001B[38;5;241m.\u001B[39m_backward_hooks \u001B[38;5;129;01mor\u001B[39;00m \u001B[38;5;28mself\u001B[39m\u001B[38;5;241m.\u001B[39m_backward_pre_hooks \u001B[38;5;129;01mor\u001B[39;00m \u001B[38;5;28mself\u001B[39m\u001B[38;5;241m.\u001B[39m_forward_hooks \u001B[38;5;129;01mor\u001B[39;00m \u001B[38;5;28mself\u001B[39m\u001B[38;5;241m.\u001B[39m_forward_pre_hooks\n\u001B[0;32m   1560\u001B[0m         \u001B[38;5;129;01mor\u001B[39;00m _global_backward_pre_hooks \u001B[38;5;129;01mor\u001B[39;00m _global_backward_hooks\n\u001B[0;32m   1561\u001B[0m         \u001B[38;5;129;01mor\u001B[39;00m _global_forward_hooks \u001B[38;5;129;01mor\u001B[39;00m _global_forward_pre_hooks):\n\u001B[1;32m-> 1562\u001B[0m     \u001B[38;5;28;01mreturn\u001B[39;00m \u001B[43mforward_call\u001B[49m\u001B[43m(\u001B[49m\u001B[38;5;241;43m*\u001B[39;49m\u001B[43margs\u001B[49m\u001B[43m,\u001B[49m\u001B[43m \u001B[49m\u001B[38;5;241;43m*\u001B[39;49m\u001B[38;5;241;43m*\u001B[39;49m\u001B[43mkwargs\u001B[49m\u001B[43m)\u001B[49m\n\u001B[0;32m   1564\u001B[0m \u001B[38;5;28;01mtry\u001B[39;00m:\n",
      "File \u001B[1;32m~\\Git-Master\\Privat\\cv2024\\venv\\Lib\\site-packages\\torchmetrics\\metric.py:312\u001B[0m, in \u001B[0;36mMetric.forward\u001B[1;34m(self, *args, **kwargs)\u001B[0m\n\u001B[0;32m    311\u001B[0m \u001B[38;5;28;01melse\u001B[39;00m:\n\u001B[1;32m--> 312\u001B[0m     \u001B[38;5;28mself\u001B[39m\u001B[38;5;241m.\u001B[39m_forward_cache \u001B[38;5;241m=\u001B[39m \u001B[38;5;28;43mself\u001B[39;49m\u001B[38;5;241;43m.\u001B[39;49m\u001B[43m_forward_reduce_state_update\u001B[49m\u001B[43m(\u001B[49m\u001B[38;5;241;43m*\u001B[39;49m\u001B[43margs\u001B[49m\u001B[43m,\u001B[49m\u001B[43m \u001B[49m\u001B[38;5;241;43m*\u001B[39;49m\u001B[38;5;241;43m*\u001B[39;49m\u001B[43mkwargs\u001B[49m\u001B[43m)\u001B[49m\n\u001B[0;32m    314\u001B[0m \u001B[38;5;28;01mreturn\u001B[39;00m \u001B[38;5;28mself\u001B[39m\u001B[38;5;241m.\u001B[39m_forward_cache\n",
      "File \u001B[1;32m~\\Git-Master\\Privat\\cv2024\\venv\\Lib\\site-packages\\torchmetrics\\metric.py:381\u001B[0m, in \u001B[0;36mMetric._forward_reduce_state_update\u001B[1;34m(self, *args, **kwargs)\u001B[0m\n\u001B[0;32m    380\u001B[0m \u001B[38;5;66;03m# calculate batch state and compute batch value\u001B[39;00m\n\u001B[1;32m--> 381\u001B[0m \u001B[38;5;28;43mself\u001B[39;49m\u001B[38;5;241;43m.\u001B[39;49m\u001B[43mupdate\u001B[49m\u001B[43m(\u001B[49m\u001B[38;5;241;43m*\u001B[39;49m\u001B[43margs\u001B[49m\u001B[43m,\u001B[49m\u001B[43m \u001B[49m\u001B[38;5;241;43m*\u001B[39;49m\u001B[38;5;241;43m*\u001B[39;49m\u001B[43mkwargs\u001B[49m\u001B[43m)\u001B[49m\n\u001B[0;32m    382\u001B[0m batch_val \u001B[38;5;241m=\u001B[39m \u001B[38;5;28mself\u001B[39m\u001B[38;5;241m.\u001B[39mcompute()\n",
      "File \u001B[1;32m~\\Git-Master\\Privat\\cv2024\\venv\\Lib\\site-packages\\torchmetrics\\metric.py:483\u001B[0m, in \u001B[0;36mMetric._wrap_update.<locals>.wrapped_func\u001B[1;34m(*args, **kwargs)\u001B[0m\n\u001B[0;32m    482\u001B[0m \u001B[38;5;28;01mtry\u001B[39;00m:\n\u001B[1;32m--> 483\u001B[0m     \u001B[43mupdate\u001B[49m\u001B[43m(\u001B[49m\u001B[38;5;241;43m*\u001B[39;49m\u001B[43margs\u001B[49m\u001B[43m,\u001B[49m\u001B[43m \u001B[49m\u001B[38;5;241;43m*\u001B[39;49m\u001B[38;5;241;43m*\u001B[39;49m\u001B[43mkwargs\u001B[49m\u001B[43m)\u001B[49m\n\u001B[0;32m    484\u001B[0m \u001B[38;5;28;01mexcept\u001B[39;00m \u001B[38;5;167;01mRuntimeError\u001B[39;00m \u001B[38;5;28;01mas\u001B[39;00m err:\n",
      "File \u001B[1;32m~\\Git-Master\\Privat\\cv2024\\venv\\Lib\\site-packages\\torchmetrics\\classification\\stat_scores.py:343\u001B[0m, in \u001B[0;36mMulticlassStatScores.update\u001B[1;34m(self, preds, target)\u001B[0m\n\u001B[0;32m    342\u001B[0m preds, target \u001B[38;5;241m=\u001B[39m _multiclass_stat_scores_format(preds, target, \u001B[38;5;28mself\u001B[39m\u001B[38;5;241m.\u001B[39mtop_k)\n\u001B[1;32m--> 343\u001B[0m tp, fp, tn, fn \u001B[38;5;241m=\u001B[39m \u001B[43m_multiclass_stat_scores_update\u001B[49m\u001B[43m(\u001B[49m\n\u001B[0;32m    344\u001B[0m \u001B[43m    \u001B[49m\u001B[43mpreds\u001B[49m\u001B[43m,\u001B[49m\u001B[43m \u001B[49m\u001B[43mtarget\u001B[49m\u001B[43m,\u001B[49m\u001B[43m \u001B[49m\u001B[38;5;28;43mself\u001B[39;49m\u001B[38;5;241;43m.\u001B[39;49m\u001B[43mnum_classes\u001B[49m\u001B[43m,\u001B[49m\u001B[43m \u001B[49m\u001B[38;5;28;43mself\u001B[39;49m\u001B[38;5;241;43m.\u001B[39;49m\u001B[43mtop_k\u001B[49m\u001B[43m,\u001B[49m\u001B[43m \u001B[49m\u001B[38;5;28;43mself\u001B[39;49m\u001B[38;5;241;43m.\u001B[39;49m\u001B[43maverage\u001B[49m\u001B[43m,\u001B[49m\u001B[43m \u001B[49m\u001B[38;5;28;43mself\u001B[39;49m\u001B[38;5;241;43m.\u001B[39;49m\u001B[43mmultidim_average\u001B[49m\u001B[43m,\u001B[49m\u001B[43m \u001B[49m\u001B[38;5;28;43mself\u001B[39;49m\u001B[38;5;241;43m.\u001B[39;49m\u001B[43mignore_index\u001B[49m\n\u001B[0;32m    345\u001B[0m \u001B[43m\u001B[49m\u001B[43m)\u001B[49m\n\u001B[0;32m    346\u001B[0m \u001B[38;5;28mself\u001B[39m\u001B[38;5;241m.\u001B[39m_update_state(tp, fp, tn, fn)\n",
      "File \u001B[1;32m~\\Git-Master\\Privat\\cv2024\\venv\\Lib\\site-packages\\torchmetrics\\functional\\classification\\stat_scores.py:413\u001B[0m, in \u001B[0;36m_multiclass_stat_scores_update\u001B[1;34m(preds, target, num_classes, top_k, average, multidim_average, ignore_index)\u001B[0m\n\u001B[0;32m    412\u001B[0m unique_mapping \u001B[38;5;241m=\u001B[39m target\u001B[38;5;241m.\u001B[39mto(torch\u001B[38;5;241m.\u001B[39mlong) \u001B[38;5;241m*\u001B[39m num_classes \u001B[38;5;241m+\u001B[39m preds\u001B[38;5;241m.\u001B[39mto(torch\u001B[38;5;241m.\u001B[39mlong)\n\u001B[1;32m--> 413\u001B[0m bins \u001B[38;5;241m=\u001B[39m \u001B[43m_bincount\u001B[49m\u001B[43m(\u001B[49m\u001B[43munique_mapping\u001B[49m\u001B[43m,\u001B[49m\u001B[43m \u001B[49m\u001B[43mminlength\u001B[49m\u001B[38;5;241;43m=\u001B[39;49m\u001B[43mnum_classes\u001B[49m\u001B[38;5;241;43m*\u001B[39;49m\u001B[38;5;241;43m*\u001B[39;49m\u001B[38;5;241;43m2\u001B[39;49m\u001B[43m)\u001B[49m\n\u001B[0;32m    414\u001B[0m confmat \u001B[38;5;241m=\u001B[39m bins\u001B[38;5;241m.\u001B[39mreshape(num_classes, num_classes)\n",
      "File \u001B[1;32m~\\Git-Master\\Privat\\cv2024\\venv\\Lib\\site-packages\\torchmetrics\\utilities\\data.py:207\u001B[0m, in \u001B[0;36m_bincount\u001B[1;34m(x, minlength)\u001B[0m\n\u001B[0;32m    205\u001B[0m     \u001B[38;5;28;01mreturn\u001B[39;00m torch\u001B[38;5;241m.\u001B[39meq(x\u001B[38;5;241m.\u001B[39mreshape(\u001B[38;5;241m-\u001B[39m\u001B[38;5;241m1\u001B[39m, \u001B[38;5;241m1\u001B[39m), mesh)\u001B[38;5;241m.\u001B[39msum(dim\u001B[38;5;241m=\u001B[39m\u001B[38;5;241m0\u001B[39m)\n\u001B[1;32m--> 207\u001B[0m \u001B[38;5;28;01mreturn\u001B[39;00m \u001B[43mtorch\u001B[49m\u001B[38;5;241;43m.\u001B[39;49m\u001B[43mbincount\u001B[49m\u001B[43m(\u001B[49m\u001B[43mx\u001B[49m\u001B[43m,\u001B[49m\u001B[43m \u001B[49m\u001B[43mminlength\u001B[49m\u001B[38;5;241;43m=\u001B[39;49m\u001B[43mminlength\u001B[49m\u001B[43m)\u001B[49m\n",
      "\u001B[1;31mKeyboardInterrupt\u001B[0m: ",
      "\nDuring handling of the above exception, another exception occurred:\n",
      "\u001B[1;31mNameError\u001B[0m                                 Traceback (most recent call last)",
      "Cell \u001B[1;32mIn[23], line 1\u001B[0m\n\u001B[1;32m----> 1\u001B[0m \u001B[43mtrainer\u001B[49m\u001B[38;5;241;43m.\u001B[39;49m\u001B[43mvalidate\u001B[49m\u001B[43m(\u001B[49m\u001B[43mcreate_model\u001B[49m\u001B[43m(\u001B[49m\u001B[43m)\u001B[49m\u001B[43m,\u001B[49m\u001B[43m \u001B[49m\u001B[43mee_data_module\u001B[49m\u001B[38;5;241;43m.\u001B[39;49m\u001B[43mval_dataloader\u001B[49m\u001B[43m(\u001B[49m\u001B[43m)\u001B[49m\u001B[43m)\u001B[49m\n",
      "File \u001B[1;32m~\\Git-Master\\Privat\\cv2024\\venv\\Lib\\site-packages\\lightning\\pytorch\\trainer\\trainer.py:639\u001B[0m, in \u001B[0;36mTrainer.validate\u001B[1;34m(self, model, dataloaders, ckpt_path, verbose, datamodule)\u001B[0m\n\u001B[0;32m    637\u001B[0m \u001B[38;5;28mself\u001B[39m\u001B[38;5;241m.\u001B[39mstate\u001B[38;5;241m.\u001B[39mstatus \u001B[38;5;241m=\u001B[39m TrainerStatus\u001B[38;5;241m.\u001B[39mRUNNING\n\u001B[0;32m    638\u001B[0m \u001B[38;5;28mself\u001B[39m\u001B[38;5;241m.\u001B[39mvalidating \u001B[38;5;241m=\u001B[39m \u001B[38;5;28;01mTrue\u001B[39;00m\n\u001B[1;32m--> 639\u001B[0m \u001B[38;5;28;01mreturn\u001B[39;00m \u001B[43mcall\u001B[49m\u001B[38;5;241;43m.\u001B[39;49m\u001B[43m_call_and_handle_interrupt\u001B[49m\u001B[43m(\u001B[49m\n\u001B[0;32m    640\u001B[0m \u001B[43m    \u001B[49m\u001B[38;5;28;43mself\u001B[39;49m\u001B[43m,\u001B[49m\u001B[43m \u001B[49m\u001B[38;5;28;43mself\u001B[39;49m\u001B[38;5;241;43m.\u001B[39;49m\u001B[43m_validate_impl\u001B[49m\u001B[43m,\u001B[49m\u001B[43m \u001B[49m\u001B[43mmodel\u001B[49m\u001B[43m,\u001B[49m\u001B[43m \u001B[49m\u001B[43mdataloaders\u001B[49m\u001B[43m,\u001B[49m\u001B[43m \u001B[49m\u001B[43mckpt_path\u001B[49m\u001B[43m,\u001B[49m\u001B[43m \u001B[49m\u001B[43mverbose\u001B[49m\u001B[43m,\u001B[49m\u001B[43m \u001B[49m\u001B[43mdatamodule\u001B[49m\n\u001B[0;32m    641\u001B[0m \u001B[43m\u001B[49m\u001B[43m)\u001B[49m\n",
      "File \u001B[1;32m~\\Git-Master\\Privat\\cv2024\\venv\\Lib\\site-packages\\lightning\\pytorch\\trainer\\call.py:64\u001B[0m, in \u001B[0;36m_call_and_handle_interrupt\u001B[1;34m(trainer, trainer_fn, *args, **kwargs)\u001B[0m\n\u001B[0;32m     62\u001B[0m     \u001B[38;5;28;01mif\u001B[39;00m \u001B[38;5;28misinstance\u001B[39m(launcher, _SubprocessScriptLauncher):\n\u001B[0;32m     63\u001B[0m         launcher\u001B[38;5;241m.\u001B[39mkill(_get_sigkill_signal())\n\u001B[1;32m---> 64\u001B[0m     \u001B[43mexit\u001B[49m(\u001B[38;5;241m1\u001B[39m)\n\u001B[0;32m     66\u001B[0m \u001B[38;5;28;01mexcept\u001B[39;00m \u001B[38;5;167;01mBaseException\u001B[39;00m \u001B[38;5;28;01mas\u001B[39;00m exception:\n\u001B[0;32m     67\u001B[0m     _interrupt(trainer, exception)\n",
      "\u001B[1;31mNameError\u001B[0m: name 'exit' is not defined"
     ]
    }
   ],
   "execution_count": 23
  },
  {
   "metadata": {},
   "cell_type": "markdown",
   "source": "## Predict on CVIP Data",
   "id": "3b02d85c9bc92829"
  },
  {
   "metadata": {
    "ExecuteTime": {
     "end_time": "2024-08-27T22:16:52.002780Z",
     "start_time": "2024-08-27T22:16:52.001777Z"
    }
   },
   "cell_type": "code",
   "source": "trainer.validate(create_model(), cvip_data_module.val_dataloader())",
   "id": "76490c8db35a75b1",
   "outputs": [],
   "execution_count": null
  },
  {
   "metadata": {
    "ExecuteTime": {
     "end_time": "2024-08-27T22:16:52.003778Z",
     "start_time": "2024-08-27T22:16:52.002780Z"
    }
   },
   "cell_type": "code",
   "source": [
    "from torch.utils.data import DataLoader\n",
    "\n",
    "train_ds = cvip_data_module.datasets['train']\n",
    "train_loader = DataLoader(train_ds, batch_size=64, num_workers=0)\n",
    "labels = []\n",
    "for batch in train_loader:\n",
    "    _, _labels = batch\n",
    "    labels.append(_labels)\n",
    "\n",
    "model = create_model()\n",
    "trainer.validate(model, train_loader)"
   ],
   "id": "4d466f6c0b4a3cfb",
   "outputs": [],
   "execution_count": null
  },
  {
   "metadata": {
    "ExecuteTime": {
     "end_time": "2024-08-27T22:16:52.003778Z",
     "start_time": "2024-08-27T22:16:52.003778Z"
    }
   },
   "cell_type": "code",
   "source": [
    "dataloader = cvip_data_module.val_dataloader()\n",
    "\n",
    "print(\"Model Device:\", model.device)\n",
    "model_result = []\n",
    "for batch in tqdm(dataloader, total=len(dataloader)):\n",
    "    images, labels = batch\n",
    "    images = images.to(torch.device('cuda'))\n",
    "\n",
    "    logits = model.forward(images)\n",
    "    model_result.append((logits, labels))"
   ],
   "id": "7d86aeed41b09672",
   "outputs": [],
   "execution_count": null
  },
  {
   "metadata": {},
   "cell_type": "code",
   "source": [
    "def extract_results(results):\n",
    "    logits = []\n",
    "    labels = []\n",
    "    for _tuple in results:\n",
    "        _logits, _labels = _tuple\n",
    "        logits.append(_logits.detach().cpu())\n",
    "        labels.append(_labels)\n",
    "\n",
    "    logits = np.array(logits).reshape(-1, 10)\n",
    "    labels = np.array(labels).reshape(-1)\n",
    "\n",
    "    return logits, labels\n",
    "\n",
    "\n",
    "logits, y_true = extract_results(model_result)\n",
    "y_pred = np.argmax(logits, axis=1)\n",
    "\n",
    "print(y_pred.shape, y_true.shape)"
   ],
   "id": "28e2b55c64716d7b",
   "outputs": [],
   "execution_count": null
  },
  {
   "metadata": {},
   "cell_type": "code",
   "source": [
    "class_indices = list(class_mapping.values())\n",
    "class_labels = list(class_mapping.keys())\n",
    "report = classification_report(y_true=y_true,\n",
    "                               y_pred=y_pred,\n",
    "                               labels=class_indices,\n",
    "                               target_names=class_labels, output_dict=True, zero_division=np.nan)\n",
    "pd.DataFrame(report).T"
   ],
   "id": "ca2a468756a03a77",
   "outputs": [],
   "execution_count": null
  },
  {
   "metadata": {},
   "cell_type": "code",
   "source": [
    "def plot_roc_curve(preds: np.array, labels: np.array, class_mapping):\n",
    "    print(\"Creating ROC curve plot\")\n",
    "    sns.set(style=\"whitegrid\", context=\"poster\", palette=\"bright\")\n",
    "    sns.set_style('ticks')\n",
    "\n",
    "    class_labels = list(class_mapping.keys())\n",
    "    num_classes = len(class_labels)\n",
    "\n",
    "    if labels.ndim == 1 or labels.shape[1] == 1:\n",
    "        micro_labels = label_binarize(labels, classes=np.arange(num_classes)).ravel()\n",
    "    else:\n",
    "        micro_labels = labels.ravel()\n",
    "\n",
    "    micro_preds = preds.ravel()\n",
    "\n",
    "    mean_fpr = np.linspace(0, 1, 100)\n",
    "    tprs = []\n",
    "    aucs = []\n",
    "\n",
    "    # Create a subplot figure with 1 row and 2 columns\n",
    "    fig, axes = plt.subplots(1, 2, figsize=(28, 10))\n",
    "    fig.subplots_adjust(hspace=0.4, wspace=0.4, bottom=0.15)\n",
    "\n",
    "    ax1 = axes[0]\n",
    "    for i in range(num_classes):\n",
    "        binary_labels = (labels == i)\n",
    "        fpr, tpr, _ = roc_curve(binary_labels, preds[:, i])\n",
    "        auc_score = auc(fpr, tpr)\n",
    "        aucs.append(auc_score)\n",
    "        interp_tpr = np.interp(mean_fpr, fpr, tpr)\n",
    "        tprs.append(interp_tpr)\n",
    "        sns.lineplot(x=fpr, y=tpr, ax=ax1, label=f'{class_labels[i]} (AUC = {auc_score:.2f})')\n",
    "\n",
    "    sns.lineplot(x=[0, 1], y=[0, 1], ax=ax1, color=\"gray\", linestyle='--', label='Random Classifier')\n",
    "    ax1.set_title('ROC Curves for Each Class')\n",
    "    ax1.set_xlabel('False Positive Rate (Specificity)')\n",
    "    ax1.set_ylabel('True Positive Rate (Sensitivity)')\n",
    "    ax1.legend(loc='lower right', fontsize='small', title_fontsize='medium')\n",
    "\n",
    "    # Calculate and plot the micro-average ROC curve\n",
    "    micro_fpr, micro_tpr, _ = roc_curve(micro_labels, micro_preds)\n",
    "    micro_auc = auc(micro_fpr, micro_tpr)\n",
    "    sns.lineplot(x=micro_fpr, y=micro_tpr, ax=axes[1], color='blue', label=f'Micro-average ROC (AUC = {micro_auc:.2f})')\n",
    "\n",
    "    # Macro-average ROC curve\n",
    "    mean_tpr = np.mean(tprs, axis=0)\n",
    "    mean_auc = auc(mean_fpr, mean_tpr)\n",
    "    mean_tpr[0] = 0.0\n",
    "    sns.lineplot(x=mean_fpr, y=mean_tpr, ax=axes[1], color='red', label=f'Macro-average ROC (AUC = {mean_auc:.2f})')\n",
    "\n",
    "    sns.lineplot(x=[0, 1], y=[0, 1], ax=axes[1], color=\"gray\", linestyle='--', label='Random Classifier')\n",
    "    axes[1].set_title('Macro and Micro-average ROC Curves')\n",
    "    axes[1].set_xlabel('False Positive Rate (Specificity)')\n",
    "    axes[1].set_ylabel('True Positive Rate (Sensitivity)')\n",
    "    axes[1].legend(loc='lower right', fontsize='small', title_fontsize='medium')\n",
    "\n",
    "    plt.tight_layout()\n",
    "    plt.show()"
   ],
   "id": "c5b2f8b878d3bd6",
   "outputs": [],
   "execution_count": null
  },
  {
   "metadata": {},
   "cell_type": "code",
   "source": [
    "logits_sm = torch.softmax(torch.tensor(logits), dim=1)\n",
    "plot_roc_curve(logits_sm, y_true, class_mapping)"
   ],
   "id": "a360d2697dc7a3a4",
   "outputs": [],
   "execution_count": null
  }
 ],
 "metadata": {
  "kernelspec": {
   "display_name": "Python 3",
   "language": "python",
   "name": "python3"
  },
  "language_info": {
   "codemirror_mode": {
    "name": "ipython",
    "version": 2
   },
   "file_extension": ".py",
   "mimetype": "text/x-python",
   "name": "python",
   "nbconvert_exporter": "python",
   "pygments_lexer": "ipython2",
   "version": "2.7.6"
  }
 },
 "nbformat": 4,
 "nbformat_minor": 5
}
