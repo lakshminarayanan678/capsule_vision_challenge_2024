{
 "cells": [
  {
   "metadata": {
    "ExecuteTime": {
     "end_time": "2024-08-30T22:59:23.248017Z",
     "start_time": "2024-08-30T22:59:14.276728Z"
    }
   },
   "cell_type": "code",
   "source": [
    "import argparse\n",
    "import json\n",
    "import os\n",
    "import warnings\n",
    "\n",
    "import numpy as np\n",
    "import pandas as pd\n",
    "import seaborn as sns\n",
    "import torch\n",
    "import wandb\n",
    "from lightning import Trainer\n",
    "from matplotlib import pyplot as plt\n",
    "from sklearn.metrics import classification_report\n",
    "from sklearn.metrics import roc_curve, auc\n",
    "from sklearn.preprocessing import label_binarize\n",
    "from tqdm.notebook import tqdm\n",
    "\n",
    "from src.data.datamodule import DataModule\n",
    "from src.models.regnety.regnety import RegNetY\n",
    "\n",
    "warnings.filterwarnings(\"ignore\", \".*does not have many workers.*\")\n",
    "\n",
    "%load_ext autoreload"
   ],
   "id": "cf812c80c6efe35d",
   "execution_count": 1,
   "outputs": []
  },
  {
   "metadata": {},
   "cell_type": "markdown",
   "source": "## Preparation",
   "id": "a9d095d423e32aec"
  },
  {
   "cell_type": "code",
   "id": "initial_id",
   "metadata": {
    "collapsed": true,
    "ExecuteTime": {
     "end_time": "2024-08-30T22:59:30.989427Z",
     "start_time": "2024-08-30T22:59:30.536989Z"
    }
   },
   "source": [
    "# Load the model config\n",
    "api = wandb.Api()\n",
    "# run = api.run(f'mvrcii_/SEER/f5v984te')\n",
    "run = api.run(f'wuesuv/CV2024/qt8ov5wo')\n",
    "config = argparse.Namespace(**run.config)\n",
    "config.lr"
   ],
   "execution_count": 3,
   "outputs": []
  },
  {
   "metadata": {
    "ExecuteTime": {
     "end_time": "2024-08-27T22:16:57.961778Z",
     "start_time": "2024-08-27T22:16:57.957433Z"
    }
   },
   "cell_type": "code",
   "source": [
    "# Project paths\n",
    "vissl_project_dir = 'C:\\\\Users\\Marce\\Git-Master\\JMU\\Masterarbeit\\\\vissl'\n",
    "endoscopy_project_dir = 'C:\\\\Users\\Marce\\Git-Master\\JMU\\Masterarbeit\\endoscopy'\n",
    "cvip_project_dir = 'C:\\\\Users\\Marce\\Git-Master\\Privat\\cv2024'"
   ],
   "id": "dad0a85d663502a2",
   "execution_count": 13,
   "outputs": []
  },
  {
   "metadata": {},
   "cell_type": "markdown",
   "source": "## Loading Class Mapping",
   "id": "c71975e7d99c616d"
  },
  {
   "metadata": {
    "ExecuteTime": {
     "end_time": "2024-08-27T22:16:57.970921Z",
     "start_time": "2024-08-27T22:16:57.961778Z"
    }
   },
   "cell_type": "code",
   "source": [
    "class_mapping_path = os.path.join(endoscopy_project_dir, 'datasets/endoextend_dataset/class_mapping.json')\n",
    "absolute_path = os.path.abspath(class_mapping_path)\n",
    "\n",
    "if not os.path.exists(absolute_path):\n",
    "    raise FileNotFoundError(f\"Class mapping file not found at {class_mapping_path}\")\n",
    "\n",
    "with open(class_mapping_path, 'r') as f:\n",
    "    class_mapping = json.load(f)\n",
    "class_mapping"
   ],
   "id": "1bb0b4f781d4fab1",
   "execution_count": 14,
   "outputs": []
  },
  {
   "metadata": {},
   "cell_type": "markdown",
   "source": "## Loading Model with Checkpoint",
   "id": "fbd09584ee52ef59"
  },
  {
   "metadata": {
    "ExecuteTime": {
     "end_time": "2024-08-27T22:16:57.976951Z",
     "start_time": "2024-08-27T22:16:57.971929Z"
    }
   },
   "cell_type": "code",
   "source": [
    "# ckpt_filename = 'unique-sweep-1_epoch03_val_mAP_weighted0.81.ckpt'\n",
    "ckpt_filename = 'run-20240827_135850-honest-salad-51/best_epoch07_val_AUC_macro0.99.ckpt'\n",
    "ckpt_path = os.path.join(cvip_project_dir, 'pretrained_models', ckpt_filename)\n",
    "\n",
    "\n",
    "def create_model():\n",
    "    model = RegNetY.load_from_checkpoint(checkpoint_path=ckpt_path, config=config, class_to_idx=class_mapping)\n",
    "    model.to(torch.device('cuda'))\n",
    "    model.eval()\n",
    "    return model"
   ],
   "id": "adb0d8e4df64a42c",
   "execution_count": 15,
   "outputs": []
  },
  {
   "metadata": {
    "ExecuteTime": {
     "end_time": "2024-08-27T22:16:58.003153Z",
     "start_time": "2024-08-27T22:16:57.976951Z"
    }
   },
   "cell_type": "code",
   "source": [
    "accelerator = \"mps\" if torch.backends.mps.is_available() else (\"gpu\" if torch.cuda.is_available() else \"cpu\")\n",
    "\n",
    "trainer = Trainer(\n",
    "    devices=1,\n",
    "    accelerator=accelerator,\n",
    "    precision=\"16-mixed\",\n",
    "    gradient_clip_val=0.5,\n",
    "    enable_progress_bar=True,\n",
    "    enable_model_summary=False,\n",
    "    inference_mode=True\n",
    ")"
   ],
   "id": "5fc3dcb16f68d96e",
   "execution_count": 16,
   "outputs": []
  },
  {
   "metadata": {},
   "cell_type": "markdown",
   "source": "## Loading Transforms",
   "id": "36c60b8c61ae3874"
  },
  {
   "metadata": {
    "ExecuteTime": {
     "end_time": "2024-08-27T22:16:58.010704Z",
     "start_time": "2024-08-27T22:16:58.003153Z"
    }
   },
   "cell_type": "code",
   "source": [
    "from src.utils.transform_utils import load_transforms\n",
    "\n",
    "transforms_str = run.summary.get('transforms')\n",
    "transforms = load_transforms(img_size=config.img_size, transforms_string=transforms_str)"
   ],
   "id": "99b44f6f04bf5954",
   "execution_count": 17,
   "outputs": []
  },
  {
   "metadata": {},
   "cell_type": "markdown",
   "source": "## Loading DataModules",
   "id": "bf9e662c83449e40"
  },
  {
   "metadata": {
    "ExecuteTime": {
     "end_time": "2024-08-27T22:20:16.853701Z",
     "start_time": "2024-08-27T22:20:16.228162Z"
    }
   },
   "cell_type": "code",
   "source": [
    "# EndoExtend DataModule\n",
    "ee_dataset_path = os.path.join(vissl_project_dir, '../data')\n",
    "ee_dataset_csv_path = os.path.join(endoscopy_project_dir, 'capsulevision', 'endoextend_dataset')\n",
    "\n",
    "ee_data_module = DataModule(\n",
    "    class_mapping=class_mapping,\n",
    "    transforms=transforms,\n",
    "    train_bs=32,\n",
    "    val_bs=64,\n",
    "    dataset_path=ee_dataset_path,\n",
    "    dataset_csv_path=ee_dataset_csv_path,\n",
    "    fold_idx=config.fold_id,\n",
    "    num_workers=0\n",
    ")\n",
    "ee_data_module.setup()\n",
    "print(\"EndoExtend Dataset with Val-Fold Index:\", config.fold_id)\n",
    "print(\"Train Images:\", len(ee_data_module.train_dataloader().dataset))\n",
    "print(\"Val Images:\", len(ee_data_module.val_dataloader().dataset))\n",
    "print(\"Test Images:\", len(ee_data_module.test_dataloader().dataset))"
   ],
   "id": "435d598b2aebad5",
   "execution_count": 21,
   "outputs": []
  },
  {
   "metadata": {},
   "cell_type": "markdown",
   "source": "### ",
   "id": "b5568d50d6358389"
  },
  {
   "metadata": {
    "ExecuteTime": {
     "end_time": "2024-08-27T22:20:18.231392Z",
     "start_time": "2024-08-27T22:20:17.990445Z"
    }
   },
   "cell_type": "code",
   "source": [
    "# CVIP DataModule\n",
    "dataset_path = os.path.join(cvip_project_dir, 'data')\n",
    "dataset_csv_path = os.path.join(cvip_project_dir, 'dataset')\n",
    "\n",
    "fold_id = 1\n",
    "cvip_data_module = DataModule(\n",
    "    class_mapping=class_mapping,\n",
    "    transforms=transforms,\n",
    "    train_bs=32,\n",
    "    val_bs=64,\n",
    "    dataset_path=dataset_path,\n",
    "    dataset_csv_path=dataset_csv_path,\n",
    "    fold_idx=fold_id,\n",
    "    num_workers=0\n",
    ")\n",
    "cvip_data_module.setup()\n",
    "print(\"CVIP Dataset with Val-Fold Index:\", fold_id)\n",
    "print(\"Train Images:\", len(cvip_data_module.train_dataloader().dataset))\n",
    "print(\"Val Images:\", len(cvip_data_module.val_dataloader().dataset))"
   ],
   "id": "1cae0b49e56ca48a",
   "execution_count": 22,
   "outputs": []
  },
  {
   "metadata": {},
   "cell_type": "markdown",
   "source": "## Sanity Check: Validate Model Checkpoint on EndoExtend Data",
   "id": "365289e642bccaed"
  },
  {
   "metadata": {
    "ExecuteTime": {
     "end_time": "2024-08-27T22:28:59.225633Z",
     "start_time": "2024-08-27T22:20:19.619581Z"
    }
   },
   "cell_type": "code",
   "source": "trainer.validate(create_model(), ee_data_module.val_dataloader())",
   "id": "8de3f86ea63ca4f5",
   "execution_count": 23,
   "outputs": []
  },
  {
   "metadata": {},
   "cell_type": "markdown",
   "source": "## Predict on CVIP Data",
   "id": "3b02d85c9bc92829"
  },
  {
   "metadata": {
    "ExecuteTime": {
     "end_time": "2024-08-27T22:16:52.002780Z",
     "start_time": "2024-08-27T22:16:52.001777Z"
    }
   },
   "cell_type": "code",
   "source": "trainer.validate(create_model(), cvip_data_module.val_dataloader())",
   "id": "76490c8db35a75b1",
   "execution_count": null,
   "outputs": []
  },
  {
   "metadata": {
    "ExecuteTime": {
     "end_time": "2024-08-27T22:16:52.003778Z",
     "start_time": "2024-08-27T22:16:52.002780Z"
    }
   },
   "cell_type": "code",
   "source": [
    "from torch.utils.data import DataLoader\n",
    "\n",
    "train_ds = cvip_data_module.datasets['train']\n",
    "train_loader = DataLoader(train_ds, batch_size=64, num_workers=0)\n",
    "labels = []\n",
    "for batch in train_loader:\n",
    "    _, _labels = batch\n",
    "    labels.append(_labels)\n",
    "\n",
    "model = create_model()\n",
    "trainer.validate(model, train_loader)"
   ],
   "id": "4d466f6c0b4a3cfb",
   "execution_count": null,
   "outputs": []
  },
  {
   "metadata": {
    "ExecuteTime": {
     "end_time": "2024-08-27T22:16:52.003778Z",
     "start_time": "2024-08-27T22:16:52.003778Z"
    }
   },
   "cell_type": "code",
   "source": [
    "dataloader = cvip_data_module.val_dataloader()\n",
    "\n",
    "print(\"Model Device:\", model.device)\n",
    "model_result = []\n",
    "for batch in tqdm(dataloader, total=len(dataloader)):\n",
    "    images, labels = batch\n",
    "    images = images.to(torch.device('cuda'))\n",
    "\n",
    "    logits = model.forward(images)\n",
    "    model_result.append((logits, labels))"
   ],
   "id": "7d86aeed41b09672",
   "execution_count": null,
   "outputs": []
  },
  {
   "metadata": {},
   "cell_type": "code",
   "source": [
    "def extract_results(results):\n",
    "    logits = []\n",
    "    labels = []\n",
    "    for _tuple in results:\n",
    "        _logits, _labels = _tuple\n",
    "        logits.append(_logits.detach().cpu())\n",
    "        labels.append(_labels)\n",
    "\n",
    "    logits = np.array(logits).reshape(-1, 10)\n",
    "    labels = np.array(labels).reshape(-1)\n",
    "\n",
    "    return logits, labels\n",
    "\n",
    "\n",
    "logits, y_true = extract_results(model_result)\n",
    "y_pred = np.argmax(logits, axis=1)\n",
    "\n",
    "print(y_pred.shape, y_true.shape)"
   ],
   "id": "28e2b55c64716d7b",
   "execution_count": null,
   "outputs": []
  },
  {
   "metadata": {},
   "cell_type": "code",
   "source": [
    "class_indices = list(class_mapping.values())\n",
    "class_labels = list(class_mapping.keys())\n",
    "report = classification_report(y_true=y_true,\n",
    "                               y_pred=y_pred,\n",
    "                               labels=class_indices,\n",
    "                               target_names=class_labels, output_dict=True, zero_division=np.nan)\n",
    "pd.DataFrame(report).T"
   ],
   "id": "ca2a468756a03a77",
   "execution_count": null,
   "outputs": []
  },
  {
   "metadata": {},
   "cell_type": "code",
   "source": [
    "def plot_roc_curve(preds: np.array, labels: np.array, class_mapping):\n",
    "    print(\"Creating ROC curve plot\")\n",
    "    sns.set(style=\"whitegrid\", context=\"poster\", palette=\"bright\")\n",
    "    sns.set_style('ticks')\n",
    "\n",
    "    class_labels = list(class_mapping.keys())\n",
    "    num_classes = len(class_labels)\n",
    "\n",
    "    if labels.ndim == 1 or labels.shape[1] == 1:\n",
    "        micro_labels = label_binarize(labels, classes=np.arange(num_classes)).ravel()\n",
    "    else:\n",
    "        micro_labels = labels.ravel()\n",
    "\n",
    "    micro_preds = preds.ravel()\n",
    "\n",
    "    mean_fpr = np.linspace(0, 1, 100)\n",
    "    tprs = []\n",
    "    aucs = []\n",
    "\n",
    "    # Create a subplot figure with 1 row and 2 columns\n",
    "    fig, axes = plt.subplots(1, 2, figsize=(28, 10))\n",
    "    fig.subplots_adjust(hspace=0.4, wspace=0.4, bottom=0.15)\n",
    "\n",
    "    ax1 = axes[0]\n",
    "    for i in range(num_classes):\n",
    "        binary_labels = (labels == i)\n",
    "        fpr, tpr, _ = roc_curve(binary_labels, preds[:, i])\n",
    "        auc_score = auc(fpr, tpr)\n",
    "        aucs.append(auc_score)\n",
    "        interp_tpr = np.interp(mean_fpr, fpr, tpr)\n",
    "        tprs.append(interp_tpr)\n",
    "        sns.lineplot(x=fpr, y=tpr, ax=ax1, label=f'{class_labels[i]} (AUC = {auc_score:.2f})')\n",
    "\n",
    "    sns.lineplot(x=[0, 1], y=[0, 1], ax=ax1, color=\"gray\", linestyle='--', label='Random Classifier')\n",
    "    ax1.set_title('ROC Curves for Each Class')\n",
    "    ax1.set_xlabel('False Positive Rate (Specificity)')\n",
    "    ax1.set_ylabel('True Positive Rate (Sensitivity)')\n",
    "    ax1.legend(loc='lower right', fontsize='small', title_fontsize='medium')\n",
    "\n",
    "    # Calculate and plot the micro-average ROC curve\n",
    "    micro_fpr, micro_tpr, _ = roc_curve(micro_labels, micro_preds)\n",
    "    micro_auc = auc(micro_fpr, micro_tpr)\n",
    "    sns.lineplot(x=micro_fpr, y=micro_tpr, ax=axes[1], color='blue', label=f'Micro-average ROC (AUC = {micro_auc:.2f})')\n",
    "\n",
    "    # Macro-average ROC curve\n",
    "    mean_tpr = np.mean(tprs, axis=0)\n",
    "    mean_auc = auc(mean_fpr, mean_tpr)\n",
    "    mean_tpr[0] = 0.0\n",
    "    sns.lineplot(x=mean_fpr, y=mean_tpr, ax=axes[1], color='red', label=f'Macro-average ROC (AUC = {mean_auc:.2f})')\n",
    "\n",
    "    sns.lineplot(x=[0, 1], y=[0, 1], ax=axes[1], color=\"gray\", linestyle='--', label='Random Classifier')\n",
    "    axes[1].set_title('Macro and Micro-average ROC Curves')\n",
    "    axes[1].set_xlabel('False Positive Rate (Specificity)')\n",
    "    axes[1].set_ylabel('True Positive Rate (Sensitivity)')\n",
    "    axes[1].legend(loc='lower right', fontsize='small', title_fontsize='medium')\n",
    "\n",
    "    plt.tight_layout()\n",
    "    plt.show()"
   ],
   "id": "c5b2f8b878d3bd6",
   "execution_count": null,
   "outputs": []
  },
  {
   "metadata": {},
   "cell_type": "code",
   "source": [
    "logits_sm = torch.softmax(torch.tensor(logits), dim=1)\n",
    "plot_roc_curve(logits_sm, y_true, class_mapping)"
   ],
   "id": "a360d2697dc7a3a4",
   "execution_count": null,
   "outputs": []
  }
 ],
 "metadata": {
  "kernelspec": {
   "display_name": "Python 3",
   "language": "python",
   "name": "python3"
  },
  "language_info": {
   "codemirror_mode": {
    "name": "ipython",
    "version": 2
   },
   "file_extension": ".py",
   "mimetype": "text/x-python",
   "name": "python",
   "nbconvert_exporter": "python",
   "pygments_lexer": "ipython2",
   "version": "2.7.6"
  }
 },
 "nbformat": 4,
 "nbformat_minor": 5
}
